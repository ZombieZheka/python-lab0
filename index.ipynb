{
 "cells": [
  {
   "cell_type": "markdown",
   "source": [
    "# **<span style=\"color: yellow\">Норвегія</span>**\n",
    "\n",
    "#### Загальні характеристики\n",
    "\n",
    "-----------------|-----------------\n",
    "Площа            | 385,207 тис. км²\n",
    "Населення        | 5 488 984 осіб\n",
    "Державний устрій | Парламентська конституційна монархія унітарного устрою.\n",
    "\n",
    "---\n",
    "\n",
    "### Видатні персоналії\n",
    "* Генрік Ібсен — драматург\n",
    "* Йон Фоссе — норвезький письменник та драматург\n",
    "* Кнут Гамсун — письменник\n",
    "\n",
    "### Прапор Норвегії"
   ],
   "metadata": {
    "collapsed": false
   },
   "id": "c7c36fb8489bd76e"
  },
  {
   "cell_type": "code",
   "execution_count": 56,
   "outputs": [
    {
     "data": {
      "text/plain": "<IPython.core.display.HTML object>",
      "text/html": "<svg viewBox=\"0 0 22 16\">\n\t<title>Flag of Norway</title>\n\t<rect width=\"22\" height=\"16\" fill=\"#ba0c2f\"/>\n\t<path d=\"M0,8h22M8,0v16\" stroke=\"#fff\" stroke-width=\"4\"/>\n\t<path d=\"M0,8h22M8,0v16\" stroke=\"#00205b\" stroke-width=\"2\"/>\n<title xmlns=\"http://www.w3.org/2000/svg\">Flag of Norway</title>\n<rect xmlns=\"http://www.w3.org/2000/svg\" width=\"22\" height=\"16\" fill=\"#ba0c2f\"/>\n<path xmlns=\"http://www.w3.org/2000/svg\" d=\"M0,8h22M8,0v16\" stroke=\"#fff\" stroke-width=\"4\"/>\n<path xmlns=\"http://www.w3.org/2000/svg\" d=\"M0,8h22M8,0v16\" stroke=\"#00205b\" stroke-width=\"2\"/>\n\t<title>Flag of Norway</title>\n\t<rect width=\"22\" height=\"16\" fill=\"#ba0c2f\"/>\n\t<path d=\"M0,8h22M8,0v16\" stroke=\"#fff\" stroke-width=\"4\"/>\n\t<path d=\"M0,8h22M8,0v16\" stroke=\"#00205b\" stroke-width=\"2\"/>\n</svg>\n"
     },
     "metadata": {},
     "output_type": "display_data"
    }
   ],
   "source": [
    "%%HTML\n",
    "<svg viewBox=\"0 0 22 16\">\n",
    "\t<title>Flag of Norway</title>\n",
    "\t<rect width=\"22\" height=\"16\" fill=\"#ba0c2f\"/>\n",
    "\t<path d=\"M0,8h22M8,0v16\" stroke=\"#fff\" stroke-width=\"4\"/>\n",
    "\t<path d=\"M0,8h22M8,0v16\" stroke=\"#00205b\" stroke-width=\"2\"/>\n",
    "<title xmlns=\"http://www.w3.org/2000/svg\">Flag of Norway</title>\n",
    "<rect xmlns=\"http://www.w3.org/2000/svg\" width=\"22\" height=\"16\" fill=\"#ba0c2f\"/>\n",
    "<path xmlns=\"http://www.w3.org/2000/svg\" d=\"M0,8h22M8,0v16\" stroke=\"#fff\" stroke-width=\"4\"/>\n",
    "<path xmlns=\"http://www.w3.org/2000/svg\" d=\"M0,8h22M8,0v16\" stroke=\"#00205b\" stroke-width=\"2\"/>\n",
    "\t<title>Flag of Norway</title>\n",
    "\t<rect width=\"22\" height=\"16\" fill=\"#ba0c2f\"/>\n",
    "\t<path d=\"M0,8h22M8,0v16\" stroke=\"#fff\" stroke-width=\"4\"/>\n",
    "\t<path d=\"M0,8h22M8,0v16\" stroke=\"#00205b\" stroke-width=\"2\"/>\n",
    "</svg>"
   ],
   "metadata": {
    "collapsed": false,
    "ExecuteTime": {
     "end_time": "2023-10-31T13:27:20.294172Z",
     "start_time": "2023-10-31T13:27:20.239234Z"
    }
   },
   "id": "e34fbecaba77d2ef"
  },
  {
   "cell_type": "markdown",
   "source": [
    "### Герб Норвегії\n",
    "![Coat of arms of Norway](https://upload.wikimedia.org/wikipedia/commons/thumb/9/95/Coat_of_arms_of_Norway.svg/170px-Coat_of_arms_of_Norway.svg.png)"
   ],
   "metadata": {
    "collapsed": false
   },
   "id": "21d804812f7a3442"
  },
  {
   "cell_type": "code",
   "execution_count": 57,
   "outputs": [],
   "source": [
    "import math\n",
    "\n",
    "\n",
    "def is_sum_of_squares(c):\n",
    "    \n",
    "    if not isinstance(c, (int, float)):\n",
    "        return 'Отримано нечислове значення'\n",
    "    \n",
    "    if c >= 0:\n",
    "        for a in range(int(math.sqrt(c)) + 1):\n",
    "            b = int(math.sqrt(c - a ** 2))\n",
    "\n",
    "            if a ** 2 + b ** 2 == c:\n",
    "                return f'{a}^2+{b}^2={c}'\n",
    "        \n",
    "    return f'Число {c} не можна представити квадратами двох цілих чисел'"
   ],
   "metadata": {
    "collapsed": false,
    "ExecuteTime": {
     "end_time": "2023-10-31T13:27:20.300825Z",
     "start_time": "2023-10-31T13:27:20.244963Z"
    }
   },
   "id": "843815a05b351914"
  },
  {
   "cell_type": "code",
   "execution_count": 58,
   "outputs": [
    {
     "name": "stdout",
     "output_type": "stream",
     "text": [
      "Отримано нечислове значення\n"
     ]
    }
   ],
   "source": [
    "print(is_sum_of_squares('str'))"
   ],
   "metadata": {
    "collapsed": false,
    "ExecuteTime": {
     "end_time": "2023-10-31T13:27:20.301124Z",
     "start_time": "2023-10-31T13:27:20.249489Z"
    }
   },
   "id": "a3939f2b9ce365c1"
  },
  {
   "cell_type": "code",
   "execution_count": 59,
   "outputs": [
    {
     "name": "stdout",
     "output_type": "stream",
     "text": [
      "Число 5.2 не можна представити квадратами двох цілих чисел\n"
     ]
    }
   ],
   "source": [
    "print(is_sum_of_squares(5.2))"
   ],
   "metadata": {
    "collapsed": false,
    "ExecuteTime": {
     "end_time": "2023-10-31T13:27:20.301318Z",
     "start_time": "2023-10-31T13:27:20.254974Z"
    }
   },
   "id": "8c01bd6e8f323bc4"
  },
  {
   "cell_type": "code",
   "execution_count": 60,
   "outputs": [
    {
     "name": "stdout",
     "output_type": "stream",
     "text": [
      "Число -5 не можна представити квадратами двох цілих чисел\n"
     ]
    }
   ],
   "source": [
    "print(is_sum_of_squares(-5))"
   ],
   "metadata": {
    "collapsed": false,
    "ExecuteTime": {
     "end_time": "2023-10-31T13:27:20.301445Z",
     "start_time": "2023-10-31T13:27:20.259857Z"
    }
   },
   "id": "45f6a5ffd4cdbf3"
  },
  {
   "cell_type": "code",
   "execution_count": 61,
   "outputs": [
    {
     "name": "stdout",
     "output_type": "stream",
     "text": [
      "1^2+2^2=5\n"
     ]
    }
   ],
   "source": [
    "print(is_sum_of_squares(5))"
   ],
   "metadata": {
    "collapsed": false,
    "ExecuteTime": {
     "end_time": "2023-10-31T13:27:20.301587Z",
     "start_time": "2023-10-31T13:27:20.263207Z"
    }
   },
   "id": "1ad306e4bafd2192"
  },
  {
   "cell_type": "code",
   "execution_count": 62,
   "outputs": [
    {
     "name": "stdout",
     "output_type": "stream",
     "text": [
      "2^2+2^2=8\n"
     ]
    }
   ],
   "source": [
    "print(is_sum_of_squares(8))"
   ],
   "metadata": {
    "collapsed": false,
    "ExecuteTime": {
     "end_time": "2023-10-31T13:27:20.301698Z",
     "start_time": "2023-10-31T13:27:20.265808Z"
    }
   },
   "id": "f12d0d8361dc24eb"
  },
  {
   "cell_type": "code",
   "execution_count": 63,
   "outputs": [
    {
     "name": "stdout",
     "output_type": "stream",
     "text": [
      "Число 11 не можна представити квадратами двох цілих чисел\n"
     ]
    }
   ],
   "source": [
    "print(is_sum_of_squares(11))"
   ],
   "metadata": {
    "collapsed": false,
    "ExecuteTime": {
     "end_time": "2023-10-31T13:27:20.301832Z",
     "start_time": "2023-10-31T13:27:20.268681Z"
    }
   },
   "id": "fbd620413692115"
  }
 ],
 "metadata": {
  "kernelspec": {
   "display_name": "Python 3",
   "language": "python",
   "name": "python3"
  },
  "language_info": {
   "codemirror_mode": {
    "name": "ipython",
    "version": 2
   },
   "file_extension": ".py",
   "mimetype": "text/x-python",
   "name": "python",
   "nbconvert_exporter": "python",
   "pygments_lexer": "ipython2",
   "version": "2.7.6"
  }
 },
 "nbformat": 4,
 "nbformat_minor": 5
}
